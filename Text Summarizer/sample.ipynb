{
 "cells": [
  {
   "metadata": {},
   "cell_type": "markdown",
   "source": [
    "# This is a sample Jupyter Notebook\n",
    "\n",
    "Below is an example of a code cell. \n",
    "Put your cursor into the cell and press Shift+Enter to execute it and select the next one, or click 'Run Cell' button.\n",
    "\n",
    "Press Double Shift to search everywhere for classes, files, tool windows, actions, and settings.\n",
    "\n",
    "To learn more about Jupyter Notebooks in PyCharm, see [help](https://www.jetbrains.com/help/pycharm/ipython-notebook-support.html).\n",
    "For an overview of PyCharm, go to Help -> Learn IDE features or refer to [our documentation](https://www.jetbrains.com/help/pycharm/getting-started.html)."
   ],
   "id": "8a77807f92f26ee"
  },
  {
   "metadata": {},
   "cell_type": "markdown",
   "source": "Installs",
   "id": "ed77764fdcf7586e"
  },
  {
   "metadata": {
    "ExecuteTime": {
     "end_time": "2025-09-15T15:14:45.128973Z",
     "start_time": "2025-09-15T15:14:36.580692Z"
    }
   },
   "cell_type": "code",
   "source": [
    "!pip install -U transformers\n",
    "!pip install -U accelerate\n",
    "!pip install -U datasets\n",
    "!pip install -U bertviz\n",
    "!pip install -U umap-learn\n",
    "!pip install -U sentencepiece\n",
    "!pip install --upgrade urllib3\n",
    "!pip install py7zr"
   ],
   "id": "fbc121e30a2defb3",
   "outputs": [
    {
     "name": "stdout",
     "output_type": "stream",
     "text": [
      "Requirement already satisfied: transformers in c:\\d drive\\notes\\mca\\ml based text summarizer and plagiarism detection system\\text summarizer\\.venv\\lib\\site-packages (4.56.1)\n",
      "Requirement already satisfied: filelock in c:\\d drive\\notes\\mca\\ml based text summarizer and plagiarism detection system\\text summarizer\\.venv\\lib\\site-packages (from transformers) (3.19.1)\n",
      "Requirement already satisfied: huggingface-hub<1.0,>=0.34.0 in c:\\d drive\\notes\\mca\\ml based text summarizer and plagiarism detection system\\text summarizer\\.venv\\lib\\site-packages (from transformers) (0.34.5)\n",
      "Requirement already satisfied: numpy>=1.17 in c:\\d drive\\notes\\mca\\ml based text summarizer and plagiarism detection system\\text summarizer\\.venv\\lib\\site-packages (from transformers) (2.2.6)\n",
      "Requirement already satisfied: packaging>=20.0 in c:\\d drive\\notes\\mca\\ml based text summarizer and plagiarism detection system\\text summarizer\\.venv\\lib\\site-packages (from transformers) (25.0)\n",
      "Requirement already satisfied: pyyaml>=5.1 in c:\\d drive\\notes\\mca\\ml based text summarizer and plagiarism detection system\\text summarizer\\.venv\\lib\\site-packages (from transformers) (6.0.2)\n",
      "Requirement already satisfied: regex!=2019.12.17 in c:\\d drive\\notes\\mca\\ml based text summarizer and plagiarism detection system\\text summarizer\\.venv\\lib\\site-packages (from transformers) (2025.9.1)\n",
      "Requirement already satisfied: requests in c:\\d drive\\notes\\mca\\ml based text summarizer and plagiarism detection system\\text summarizer\\.venv\\lib\\site-packages (from transformers) (2.32.5)\n",
      "Requirement already satisfied: tokenizers<=0.23.0,>=0.22.0 in c:\\d drive\\notes\\mca\\ml based text summarizer and plagiarism detection system\\text summarizer\\.venv\\lib\\site-packages (from transformers) (0.22.0)\n",
      "Requirement already satisfied: safetensors>=0.4.3 in c:\\d drive\\notes\\mca\\ml based text summarizer and plagiarism detection system\\text summarizer\\.venv\\lib\\site-packages (from transformers) (0.6.2)\n",
      "Requirement already satisfied: tqdm>=4.27 in c:\\d drive\\notes\\mca\\ml based text summarizer and plagiarism detection system\\text summarizer\\.venv\\lib\\site-packages (from transformers) (4.67.1)\n",
      "Requirement already satisfied: fsspec>=2023.5.0 in c:\\d drive\\notes\\mca\\ml based text summarizer and plagiarism detection system\\text summarizer\\.venv\\lib\\site-packages (from huggingface-hub<1.0,>=0.34.0->transformers) (2025.3.0)\n",
      "Requirement already satisfied: typing-extensions>=3.7.4.3 in c:\\d drive\\notes\\mca\\ml based text summarizer and plagiarism detection system\\text summarizer\\.venv\\lib\\site-packages (from huggingface-hub<1.0,>=0.34.0->transformers) (4.15.0)\n",
      "Requirement already satisfied: colorama in c:\\d drive\\notes\\mca\\ml based text summarizer and plagiarism detection system\\text summarizer\\.venv\\lib\\site-packages (from tqdm>=4.27->transformers) (0.4.6)\n",
      "Requirement already satisfied: charset_normalizer<4,>=2 in c:\\d drive\\notes\\mca\\ml based text summarizer and plagiarism detection system\\text summarizer\\.venv\\lib\\site-packages (from requests->transformers) (3.4.3)\n",
      "Requirement already satisfied: idna<4,>=2.5 in c:\\d drive\\notes\\mca\\ml based text summarizer and plagiarism detection system\\text summarizer\\.venv\\lib\\site-packages (from requests->transformers) (3.10)\n",
      "Requirement already satisfied: urllib3<3,>=1.21.1 in c:\\d drive\\notes\\mca\\ml based text summarizer and plagiarism detection system\\text summarizer\\.venv\\lib\\site-packages (from requests->transformers) (2.5.0)\n",
      "Requirement already satisfied: certifi>=2017.4.17 in c:\\d drive\\notes\\mca\\ml based text summarizer and plagiarism detection system\\text summarizer\\.venv\\lib\\site-packages (from requests->transformers) (2025.8.3)\n"
     ]
    },
    {
     "name": "stderr",
     "output_type": "stream",
     "text": [
      "\n",
      "[notice] A new release of pip is available: 25.1.1 -> 25.2\n",
      "[notice] To update, run: python.exe -m pip install --upgrade pip\n"
     ]
    },
    {
     "name": "stdout",
     "output_type": "stream",
     "text": [
      "Requirement already satisfied: accelerate in c:\\d drive\\notes\\mca\\ml based text summarizer and plagiarism detection system\\text summarizer\\.venv\\lib\\site-packages (1.10.1)\n",
      "Requirement already satisfied: numpy<3.0.0,>=1.17 in c:\\d drive\\notes\\mca\\ml based text summarizer and plagiarism detection system\\text summarizer\\.venv\\lib\\site-packages (from accelerate) (2.2.6)\n",
      "Requirement already satisfied: packaging>=20.0 in c:\\d drive\\notes\\mca\\ml based text summarizer and plagiarism detection system\\text summarizer\\.venv\\lib\\site-packages (from accelerate) (25.0)\n",
      "Requirement already satisfied: psutil in c:\\d drive\\notes\\mca\\ml based text summarizer and plagiarism detection system\\text summarizer\\.venv\\lib\\site-packages (from accelerate) (7.0.0)\n",
      "Requirement already satisfied: pyyaml in c:\\d drive\\notes\\mca\\ml based text summarizer and plagiarism detection system\\text summarizer\\.venv\\lib\\site-packages (from accelerate) (6.0.2)\n",
      "Requirement already satisfied: torch>=2.0.0 in c:\\d drive\\notes\\mca\\ml based text summarizer and plagiarism detection system\\text summarizer\\.venv\\lib\\site-packages (from accelerate) (2.8.0)\n",
      "Requirement already satisfied: huggingface_hub>=0.21.0 in c:\\d drive\\notes\\mca\\ml based text summarizer and plagiarism detection system\\text summarizer\\.venv\\lib\\site-packages (from accelerate) (0.34.5)\n",
      "Requirement already satisfied: safetensors>=0.4.3 in c:\\d drive\\notes\\mca\\ml based text summarizer and plagiarism detection system\\text summarizer\\.venv\\lib\\site-packages (from accelerate) (0.6.2)\n",
      "Requirement already satisfied: filelock in c:\\d drive\\notes\\mca\\ml based text summarizer and plagiarism detection system\\text summarizer\\.venv\\lib\\site-packages (from huggingface_hub>=0.21.0->accelerate) (3.19.1)\n",
      "Requirement already satisfied: fsspec>=2023.5.0 in c:\\d drive\\notes\\mca\\ml based text summarizer and plagiarism detection system\\text summarizer\\.venv\\lib\\site-packages (from huggingface_hub>=0.21.0->accelerate) (2025.3.0)\n",
      "Requirement already satisfied: requests in c:\\d drive\\notes\\mca\\ml based text summarizer and plagiarism detection system\\text summarizer\\.venv\\lib\\site-packages (from huggingface_hub>=0.21.0->accelerate) (2.32.5)\n",
      "Requirement already satisfied: tqdm>=4.42.1 in c:\\d drive\\notes\\mca\\ml based text summarizer and plagiarism detection system\\text summarizer\\.venv\\lib\\site-packages (from huggingface_hub>=0.21.0->accelerate) (4.67.1)\n",
      "Requirement already satisfied: typing-extensions>=3.7.4.3 in c:\\d drive\\notes\\mca\\ml based text summarizer and plagiarism detection system\\text summarizer\\.venv\\lib\\site-packages (from huggingface_hub>=0.21.0->accelerate) (4.15.0)\n",
      "Requirement already satisfied: sympy>=1.13.3 in c:\\d drive\\notes\\mca\\ml based text summarizer and plagiarism detection system\\text summarizer\\.venv\\lib\\site-packages (from torch>=2.0.0->accelerate) (1.14.0)\n",
      "Requirement already satisfied: networkx in c:\\d drive\\notes\\mca\\ml based text summarizer and plagiarism detection system\\text summarizer\\.venv\\lib\\site-packages (from torch>=2.0.0->accelerate) (3.5)\n",
      "Requirement already satisfied: jinja2 in c:\\d drive\\notes\\mca\\ml based text summarizer and plagiarism detection system\\text summarizer\\.venv\\lib\\site-packages (from torch>=2.0.0->accelerate) (3.1.6)\n",
      "Requirement already satisfied: mpmath<1.4,>=1.1.0 in c:\\d drive\\notes\\mca\\ml based text summarizer and plagiarism detection system\\text summarizer\\.venv\\lib\\site-packages (from sympy>=1.13.3->torch>=2.0.0->accelerate) (1.3.0)\n",
      "Requirement already satisfied: colorama in c:\\d drive\\notes\\mca\\ml based text summarizer and plagiarism detection system\\text summarizer\\.venv\\lib\\site-packages (from tqdm>=4.42.1->huggingface_hub>=0.21.0->accelerate) (0.4.6)\n",
      "Requirement already satisfied: MarkupSafe>=2.0 in c:\\d drive\\notes\\mca\\ml based text summarizer and plagiarism detection system\\text summarizer\\.venv\\lib\\site-packages (from jinja2->torch>=2.0.0->accelerate) (3.0.2)\n",
      "Requirement already satisfied: charset_normalizer<4,>=2 in c:\\d drive\\notes\\mca\\ml based text summarizer and plagiarism detection system\\text summarizer\\.venv\\lib\\site-packages (from requests->huggingface_hub>=0.21.0->accelerate) (3.4.3)\n",
      "Requirement already satisfied: idna<4,>=2.5 in c:\\d drive\\notes\\mca\\ml based text summarizer and plagiarism detection system\\text summarizer\\.venv\\lib\\site-packages (from requests->huggingface_hub>=0.21.0->accelerate) (3.10)\n",
      "Requirement already satisfied: urllib3<3,>=1.21.1 in c:\\d drive\\notes\\mca\\ml based text summarizer and plagiarism detection system\\text summarizer\\.venv\\lib\\site-packages (from requests->huggingface_hub>=0.21.0->accelerate) (2.5.0)\n",
      "Requirement already satisfied: certifi>=2017.4.17 in c:\\d drive\\notes\\mca\\ml based text summarizer and plagiarism detection system\\text summarizer\\.venv\\lib\\site-packages (from requests->huggingface_hub>=0.21.0->accelerate) (2025.8.3)\n"
     ]
    },
    {
     "name": "stderr",
     "output_type": "stream",
     "text": [
      "\n",
      "[notice] A new release of pip is available: 25.1.1 -> 25.2\n",
      "[notice] To update, run: python.exe -m pip install --upgrade pip\n"
     ]
    },
    {
     "name": "stdout",
     "output_type": "stream",
     "text": [
      "Requirement already satisfied: datasets in c:\\d drive\\notes\\mca\\ml based text summarizer and plagiarism detection system\\text summarizer\\.venv\\lib\\site-packages (4.0.0)\n",
      "Requirement already satisfied: filelock in c:\\d drive\\notes\\mca\\ml based text summarizer and plagiarism detection system\\text summarizer\\.venv\\lib\\site-packages (from datasets) (3.19.1)\n",
      "Requirement already satisfied: numpy>=1.17 in c:\\d drive\\notes\\mca\\ml based text summarizer and plagiarism detection system\\text summarizer\\.venv\\lib\\site-packages (from datasets) (2.2.6)\n",
      "Requirement already satisfied: pyarrow>=15.0.0 in c:\\d drive\\notes\\mca\\ml based text summarizer and plagiarism detection system\\text summarizer\\.venv\\lib\\site-packages (from datasets) (21.0.0)\n",
      "Requirement already satisfied: dill<0.3.9,>=0.3.0 in c:\\d drive\\notes\\mca\\ml based text summarizer and plagiarism detection system\\text summarizer\\.venv\\lib\\site-packages (from datasets) (0.3.8)\n",
      "Requirement already satisfied: pandas in c:\\d drive\\notes\\mca\\ml based text summarizer and plagiarism detection system\\text summarizer\\.venv\\lib\\site-packages (from datasets) (2.3.2)\n",
      "Requirement already satisfied: requests>=2.32.2 in c:\\d drive\\notes\\mca\\ml based text summarizer and plagiarism detection system\\text summarizer\\.venv\\lib\\site-packages (from datasets) (2.32.5)\n",
      "Requirement already satisfied: tqdm>=4.66.3 in c:\\d drive\\notes\\mca\\ml based text summarizer and plagiarism detection system\\text summarizer\\.venv\\lib\\site-packages (from datasets) (4.67.1)\n",
      "Requirement already satisfied: xxhash in c:\\d drive\\notes\\mca\\ml based text summarizer and plagiarism detection system\\text summarizer\\.venv\\lib\\site-packages (from datasets) (3.5.0)\n",
      "Requirement already satisfied: multiprocess<0.70.17 in c:\\d drive\\notes\\mca\\ml based text summarizer and plagiarism detection system\\text summarizer\\.venv\\lib\\site-packages (from datasets) (0.70.16)\n",
      "Requirement already satisfied: fsspec<=2025.3.0,>=2023.1.0 in c:\\d drive\\notes\\mca\\ml based text summarizer and plagiarism detection system\\text summarizer\\.venv\\lib\\site-packages (from fsspec[http]<=2025.3.0,>=2023.1.0->datasets) (2025.3.0)\n",
      "Requirement already satisfied: huggingface-hub>=0.24.0 in c:\\d drive\\notes\\mca\\ml based text summarizer and plagiarism detection system\\text summarizer\\.venv\\lib\\site-packages (from datasets) (0.34.5)\n",
      "Requirement already satisfied: packaging in c:\\d drive\\notes\\mca\\ml based text summarizer and plagiarism detection system\\text summarizer\\.venv\\lib\\site-packages (from datasets) (25.0)\n",
      "Requirement already satisfied: pyyaml>=5.1 in c:\\d drive\\notes\\mca\\ml based text summarizer and plagiarism detection system\\text summarizer\\.venv\\lib\\site-packages (from datasets) (6.0.2)\n",
      "Requirement already satisfied: aiohttp!=4.0.0a0,!=4.0.0a1 in c:\\d drive\\notes\\mca\\ml based text summarizer and plagiarism detection system\\text summarizer\\.venv\\lib\\site-packages (from fsspec[http]<=2025.3.0,>=2023.1.0->datasets) (3.12.15)\n",
      "Requirement already satisfied: aiohappyeyeballs>=2.5.0 in c:\\d drive\\notes\\mca\\ml based text summarizer and plagiarism detection system\\text summarizer\\.venv\\lib\\site-packages (from aiohttp!=4.0.0a0,!=4.0.0a1->fsspec[http]<=2025.3.0,>=2023.1.0->datasets) (2.6.1)\n",
      "Requirement already satisfied: aiosignal>=1.4.0 in c:\\d drive\\notes\\mca\\ml based text summarizer and plagiarism detection system\\text summarizer\\.venv\\lib\\site-packages (from aiohttp!=4.0.0a0,!=4.0.0a1->fsspec[http]<=2025.3.0,>=2023.1.0->datasets) (1.4.0)\n",
      "Requirement already satisfied: attrs>=17.3.0 in c:\\d drive\\notes\\mca\\ml based text summarizer and plagiarism detection system\\text summarizer\\.venv\\lib\\site-packages (from aiohttp!=4.0.0a0,!=4.0.0a1->fsspec[http]<=2025.3.0,>=2023.1.0->datasets) (25.3.0)\n",
      "Requirement already satisfied: frozenlist>=1.1.1 in c:\\d drive\\notes\\mca\\ml based text summarizer and plagiarism detection system\\text summarizer\\.venv\\lib\\site-packages (from aiohttp!=4.0.0a0,!=4.0.0a1->fsspec[http]<=2025.3.0,>=2023.1.0->datasets) (1.7.0)\n",
      "Requirement already satisfied: multidict<7.0,>=4.5 in c:\\d drive\\notes\\mca\\ml based text summarizer and plagiarism detection system\\text summarizer\\.venv\\lib\\site-packages (from aiohttp!=4.0.0a0,!=4.0.0a1->fsspec[http]<=2025.3.0,>=2023.1.0->datasets) (6.6.4)\n",
      "Requirement already satisfied: propcache>=0.2.0 in c:\\d drive\\notes\\mca\\ml based text summarizer and plagiarism detection system\\text summarizer\\.venv\\lib\\site-packages (from aiohttp!=4.0.0a0,!=4.0.0a1->fsspec[http]<=2025.3.0,>=2023.1.0->datasets) (0.3.2)\n",
      "Requirement already satisfied: yarl<2.0,>=1.17.0 in c:\\d drive\\notes\\mca\\ml based text summarizer and plagiarism detection system\\text summarizer\\.venv\\lib\\site-packages (from aiohttp!=4.0.0a0,!=4.0.0a1->fsspec[http]<=2025.3.0,>=2023.1.0->datasets) (1.20.1)\n",
      "Requirement already satisfied: idna>=2.0 in c:\\d drive\\notes\\mca\\ml based text summarizer and plagiarism detection system\\text summarizer\\.venv\\lib\\site-packages (from yarl<2.0,>=1.17.0->aiohttp!=4.0.0a0,!=4.0.0a1->fsspec[http]<=2025.3.0,>=2023.1.0->datasets) (3.10)\n",
      "Requirement already satisfied: typing-extensions>=4.2 in c:\\d drive\\notes\\mca\\ml based text summarizer and plagiarism detection system\\text summarizer\\.venv\\lib\\site-packages (from aiosignal>=1.4.0->aiohttp!=4.0.0a0,!=4.0.0a1->fsspec[http]<=2025.3.0,>=2023.1.0->datasets) (4.15.0)\n",
      "Requirement already satisfied: charset_normalizer<4,>=2 in c:\\d drive\\notes\\mca\\ml based text summarizer and plagiarism detection system\\text summarizer\\.venv\\lib\\site-packages (from requests>=2.32.2->datasets) (3.4.3)\n",
      "Requirement already satisfied: urllib3<3,>=1.21.1 in c:\\d drive\\notes\\mca\\ml based text summarizer and plagiarism detection system\\text summarizer\\.venv\\lib\\site-packages (from requests>=2.32.2->datasets) (2.5.0)\n",
      "Requirement already satisfied: certifi>=2017.4.17 in c:\\d drive\\notes\\mca\\ml based text summarizer and plagiarism detection system\\text summarizer\\.venv\\lib\\site-packages (from requests>=2.32.2->datasets) (2025.8.3)\n",
      "Requirement already satisfied: colorama in c:\\d drive\\notes\\mca\\ml based text summarizer and plagiarism detection system\\text summarizer\\.venv\\lib\\site-packages (from tqdm>=4.66.3->datasets) (0.4.6)\n",
      "Requirement already satisfied: python-dateutil>=2.8.2 in c:\\d drive\\notes\\mca\\ml based text summarizer and plagiarism detection system\\text summarizer\\.venv\\lib\\site-packages (from pandas->datasets) (2.9.0.post0)\n",
      "Requirement already satisfied: pytz>=2020.1 in c:\\d drive\\notes\\mca\\ml based text summarizer and plagiarism detection system\\text summarizer\\.venv\\lib\\site-packages (from pandas->datasets) (2025.2)\n",
      "Requirement already satisfied: tzdata>=2022.7 in c:\\d drive\\notes\\mca\\ml based text summarizer and plagiarism detection system\\text summarizer\\.venv\\lib\\site-packages (from pandas->datasets) (2025.2)\n",
      "Requirement already satisfied: six>=1.5 in c:\\d drive\\notes\\mca\\ml based text summarizer and plagiarism detection system\\text summarizer\\.venv\\lib\\site-packages (from python-dateutil>=2.8.2->pandas->datasets) (1.17.0)\n"
     ]
    },
    {
     "name": "stderr",
     "output_type": "stream",
     "text": [
      "\n",
      "[notice] A new release of pip is available: 25.1.1 -> 25.2\n",
      "[notice] To update, run: python.exe -m pip install --upgrade pip\n"
     ]
    },
    {
     "name": "stdout",
     "output_type": "stream",
     "text": [
      "Requirement already satisfied: bertviz in c:\\d drive\\notes\\mca\\ml based text summarizer and plagiarism detection system\\text summarizer\\.venv\\lib\\site-packages (1.4.1)\n",
      "Requirement already satisfied: transformers>=2.0 in c:\\d drive\\notes\\mca\\ml based text summarizer and plagiarism detection system\\text summarizer\\.venv\\lib\\site-packages (from bertviz) (4.56.1)\n",
      "Requirement already satisfied: torch>=1.0 in c:\\d drive\\notes\\mca\\ml based text summarizer and plagiarism detection system\\text summarizer\\.venv\\lib\\site-packages (from bertviz) (2.8.0)\n",
      "Requirement already satisfied: tqdm in c:\\d drive\\notes\\mca\\ml based text summarizer and plagiarism detection system\\text summarizer\\.venv\\lib\\site-packages (from bertviz) (4.67.1)\n",
      "Requirement already satisfied: boto3 in c:\\d drive\\notes\\mca\\ml based text summarizer and plagiarism detection system\\text summarizer\\.venv\\lib\\site-packages (from bertviz) (1.40.30)\n",
      "Requirement already satisfied: requests in c:\\d drive\\notes\\mca\\ml based text summarizer and plagiarism detection system\\text summarizer\\.venv\\lib\\site-packages (from bertviz) (2.32.5)\n",
      "Requirement already satisfied: regex in c:\\d drive\\notes\\mca\\ml based text summarizer and plagiarism detection system\\text summarizer\\.venv\\lib\\site-packages (from bertviz) (2025.9.1)\n",
      "Requirement already satisfied: sentencepiece in c:\\d drive\\notes\\mca\\ml based text summarizer and plagiarism detection system\\text summarizer\\.venv\\lib\\site-packages (from bertviz) (0.2.1)\n",
      "Requirement already satisfied: IPython>=7.14 in c:\\d drive\\notes\\mca\\ml based text summarizer and plagiarism detection system\\text summarizer\\.venv\\lib\\site-packages (from bertviz) (9.5.0)\n",
      "Requirement already satisfied: colorama in c:\\d drive\\notes\\mca\\ml based text summarizer and plagiarism detection system\\text summarizer\\.venv\\lib\\site-packages (from IPython>=7.14->bertviz) (0.4.6)\n",
      "Requirement already satisfied: decorator in c:\\d drive\\notes\\mca\\ml based text summarizer and plagiarism detection system\\text summarizer\\.venv\\lib\\site-packages (from IPython>=7.14->bertviz) (5.2.1)\n",
      "Requirement already satisfied: ipython-pygments-lexers in c:\\d drive\\notes\\mca\\ml based text summarizer and plagiarism detection system\\text summarizer\\.venv\\lib\\site-packages (from IPython>=7.14->bertviz) (1.1.1)\n",
      "Requirement already satisfied: jedi>=0.16 in c:\\d drive\\notes\\mca\\ml based text summarizer and plagiarism detection system\\text summarizer\\.venv\\lib\\site-packages (from IPython>=7.14->bertviz) (0.19.2)\n",
      "Requirement already satisfied: matplotlib-inline in c:\\d drive\\notes\\mca\\ml based text summarizer and plagiarism detection system\\text summarizer\\.venv\\lib\\site-packages (from IPython>=7.14->bertviz) (0.1.7)\n",
      "Requirement already satisfied: prompt_toolkit<3.1.0,>=3.0.41 in c:\\d drive\\notes\\mca\\ml based text summarizer and plagiarism detection system\\text summarizer\\.venv\\lib\\site-packages (from IPython>=7.14->bertviz) (3.0.52)\n",
      "Requirement already satisfied: pygments>=2.4.0 in c:\\d drive\\notes\\mca\\ml based text summarizer and plagiarism detection system\\text summarizer\\.venv\\lib\\site-packages (from IPython>=7.14->bertviz) (2.19.2)\n",
      "Requirement already satisfied: stack_data in c:\\d drive\\notes\\mca\\ml based text summarizer and plagiarism detection system\\text summarizer\\.venv\\lib\\site-packages (from IPython>=7.14->bertviz) (0.6.3)\n",
      "Requirement already satisfied: traitlets>=5.13.0 in c:\\d drive\\notes\\mca\\ml based text summarizer and plagiarism detection system\\text summarizer\\.venv\\lib\\site-packages (from IPython>=7.14->bertviz) (5.14.3)\n",
      "Requirement already satisfied: typing_extensions>=4.6 in c:\\d drive\\notes\\mca\\ml based text summarizer and plagiarism detection system\\text summarizer\\.venv\\lib\\site-packages (from IPython>=7.14->bertviz) (4.15.0)\n",
      "Requirement already satisfied: wcwidth in c:\\d drive\\notes\\mca\\ml based text summarizer and plagiarism detection system\\text summarizer\\.venv\\lib\\site-packages (from prompt_toolkit<3.1.0,>=3.0.41->IPython>=7.14->bertviz) (0.2.13)\n",
      "Requirement already satisfied: parso<0.9.0,>=0.8.4 in c:\\d drive\\notes\\mca\\ml based text summarizer and plagiarism detection system\\text summarizer\\.venv\\lib\\site-packages (from jedi>=0.16->IPython>=7.14->bertviz) (0.8.5)\n",
      "Requirement already satisfied: filelock in c:\\d drive\\notes\\mca\\ml based text summarizer and plagiarism detection system\\text summarizer\\.venv\\lib\\site-packages (from torch>=1.0->bertviz) (3.19.1)\n",
      "Requirement already satisfied: sympy>=1.13.3 in c:\\d drive\\notes\\mca\\ml based text summarizer and plagiarism detection system\\text summarizer\\.venv\\lib\\site-packages (from torch>=1.0->bertviz) (1.14.0)\n",
      "Requirement already satisfied: networkx in c:\\d drive\\notes\\mca\\ml based text summarizer and plagiarism detection system\\text summarizer\\.venv\\lib\\site-packages (from torch>=1.0->bertviz) (3.5)\n",
      "Requirement already satisfied: jinja2 in c:\\d drive\\notes\\mca\\ml based text summarizer and plagiarism detection system\\text summarizer\\.venv\\lib\\site-packages (from torch>=1.0->bertviz) (3.1.6)\n",
      "Requirement already satisfied: fsspec in c:\\d drive\\notes\\mca\\ml based text summarizer and plagiarism detection system\\text summarizer\\.venv\\lib\\site-packages (from torch>=1.0->bertviz) (2025.3.0)\n",
      "Requirement already satisfied: mpmath<1.4,>=1.1.0 in c:\\d drive\\notes\\mca\\ml based text summarizer and plagiarism detection system\\text summarizer\\.venv\\lib\\site-packages (from sympy>=1.13.3->torch>=1.0->bertviz) (1.3.0)\n",
      "Requirement already satisfied: huggingface-hub<1.0,>=0.34.0 in c:\\d drive\\notes\\mca\\ml based text summarizer and plagiarism detection system\\text summarizer\\.venv\\lib\\site-packages (from transformers>=2.0->bertviz) (0.34.5)\n",
      "Requirement already satisfied: numpy>=1.17 in c:\\d drive\\notes\\mca\\ml based text summarizer and plagiarism detection system\\text summarizer\\.venv\\lib\\site-packages (from transformers>=2.0->bertviz) (2.2.6)\n",
      "Requirement already satisfied: packaging>=20.0 in c:\\d drive\\notes\\mca\\ml based text summarizer and plagiarism detection system\\text summarizer\\.venv\\lib\\site-packages (from transformers>=2.0->bertviz) (25.0)\n",
      "Requirement already satisfied: pyyaml>=5.1 in c:\\d drive\\notes\\mca\\ml based text summarizer and plagiarism detection system\\text summarizer\\.venv\\lib\\site-packages (from transformers>=2.0->bertviz) (6.0.2)\n",
      "Requirement already satisfied: tokenizers<=0.23.0,>=0.22.0 in c:\\d drive\\notes\\mca\\ml based text summarizer and plagiarism detection system\\text summarizer\\.venv\\lib\\site-packages (from transformers>=2.0->bertviz) (0.22.0)\n",
      "Requirement already satisfied: safetensors>=0.4.3 in c:\\d drive\\notes\\mca\\ml based text summarizer and plagiarism detection system\\text summarizer\\.venv\\lib\\site-packages (from transformers>=2.0->bertviz) (0.6.2)\n",
      "Requirement already satisfied: botocore<1.41.0,>=1.40.30 in c:\\d drive\\notes\\mca\\ml based text summarizer and plagiarism detection system\\text summarizer\\.venv\\lib\\site-packages (from boto3->bertviz) (1.40.30)\n",
      "Requirement already satisfied: jmespath<2.0.0,>=0.7.1 in c:\\d drive\\notes\\mca\\ml based text summarizer and plagiarism detection system\\text summarizer\\.venv\\lib\\site-packages (from boto3->bertviz) (1.0.1)\n",
      "Requirement already satisfied: s3transfer<0.15.0,>=0.14.0 in c:\\d drive\\notes\\mca\\ml based text summarizer and plagiarism detection system\\text summarizer\\.venv\\lib\\site-packages (from boto3->bertviz) (0.14.0)\n",
      "Requirement already satisfied: python-dateutil<3.0.0,>=2.1 in c:\\d drive\\notes\\mca\\ml based text summarizer and plagiarism detection system\\text summarizer\\.venv\\lib\\site-packages (from botocore<1.41.0,>=1.40.30->boto3->bertviz) (2.9.0.post0)\n",
      "Requirement already satisfied: urllib3!=2.2.0,<3,>=1.25.4 in c:\\d drive\\notes\\mca\\ml based text summarizer and plagiarism detection system\\text summarizer\\.venv\\lib\\site-packages (from botocore<1.41.0,>=1.40.30->boto3->bertviz) (2.5.0)\n",
      "Requirement already satisfied: six>=1.5 in c:\\d drive\\notes\\mca\\ml based text summarizer and plagiarism detection system\\text summarizer\\.venv\\lib\\site-packages (from python-dateutil<3.0.0,>=2.1->botocore<1.41.0,>=1.40.30->boto3->bertviz) (1.17.0)\n",
      "Requirement already satisfied: MarkupSafe>=2.0 in c:\\d drive\\notes\\mca\\ml based text summarizer and plagiarism detection system\\text summarizer\\.venv\\lib\\site-packages (from jinja2->torch>=1.0->bertviz) (3.0.2)\n",
      "Requirement already satisfied: charset_normalizer<4,>=2 in c:\\d drive\\notes\\mca\\ml based text summarizer and plagiarism detection system\\text summarizer\\.venv\\lib\\site-packages (from requests->bertviz) (3.4.3)\n",
      "Requirement already satisfied: idna<4,>=2.5 in c:\\d drive\\notes\\mca\\ml based text summarizer and plagiarism detection system\\text summarizer\\.venv\\lib\\site-packages (from requests->bertviz) (3.10)\n",
      "Requirement already satisfied: certifi>=2017.4.17 in c:\\d drive\\notes\\mca\\ml based text summarizer and plagiarism detection system\\text summarizer\\.venv\\lib\\site-packages (from requests->bertviz) (2025.8.3)\n",
      "Requirement already satisfied: executing>=1.2.0 in c:\\d drive\\notes\\mca\\ml based text summarizer and plagiarism detection system\\text summarizer\\.venv\\lib\\site-packages (from stack_data->IPython>=7.14->bertviz) (2.2.1)\n",
      "Requirement already satisfied: asttokens>=2.1.0 in c:\\d drive\\notes\\mca\\ml based text summarizer and plagiarism detection system\\text summarizer\\.venv\\lib\\site-packages (from stack_data->IPython>=7.14->bertviz) (3.0.0)\n",
      "Requirement already satisfied: pure-eval in c:\\d drive\\notes\\mca\\ml based text summarizer and plagiarism detection system\\text summarizer\\.venv\\lib\\site-packages (from stack_data->IPython>=7.14->bertviz) (0.2.3)\n"
     ]
    },
    {
     "name": "stderr",
     "output_type": "stream",
     "text": [
      "\n",
      "[notice] A new release of pip is available: 25.1.1 -> 25.2\n",
      "[notice] To update, run: python.exe -m pip install --upgrade pip\n"
     ]
    },
    {
     "name": "stdout",
     "output_type": "stream",
     "text": [
      "Requirement already satisfied: umap-learn in c:\\d drive\\notes\\mca\\ml based text summarizer and plagiarism detection system\\text summarizer\\.venv\\lib\\site-packages (0.5.9.post2)\n",
      "Requirement already satisfied: numpy>=1.23 in c:\\d drive\\notes\\mca\\ml based text summarizer and plagiarism detection system\\text summarizer\\.venv\\lib\\site-packages (from umap-learn) (2.2.6)\n",
      "Requirement already satisfied: scipy>=1.3.1 in c:\\d drive\\notes\\mca\\ml based text summarizer and plagiarism detection system\\text summarizer\\.venv\\lib\\site-packages (from umap-learn) (1.16.2)\n",
      "Requirement already satisfied: scikit-learn>=1.6 in c:\\d drive\\notes\\mca\\ml based text summarizer and plagiarism detection system\\text summarizer\\.venv\\lib\\site-packages (from umap-learn) (1.7.2)\n",
      "Requirement already satisfied: numba>=0.51.2 in c:\\d drive\\notes\\mca\\ml based text summarizer and plagiarism detection system\\text summarizer\\.venv\\lib\\site-packages (from umap-learn) (0.61.2)\n",
      "Requirement already satisfied: pynndescent>=0.5 in c:\\d drive\\notes\\mca\\ml based text summarizer and plagiarism detection system\\text summarizer\\.venv\\lib\\site-packages (from umap-learn) (0.5.13)\n",
      "Requirement already satisfied: tqdm in c:\\d drive\\notes\\mca\\ml based text summarizer and plagiarism detection system\\text summarizer\\.venv\\lib\\site-packages (from umap-learn) (4.67.1)\n",
      "Requirement already satisfied: llvmlite<0.45,>=0.44.0dev0 in c:\\d drive\\notes\\mca\\ml based text summarizer and plagiarism detection system\\text summarizer\\.venv\\lib\\site-packages (from numba>=0.51.2->umap-learn) (0.44.0)\n",
      "Requirement already satisfied: joblib>=0.11 in c:\\d drive\\notes\\mca\\ml based text summarizer and plagiarism detection system\\text summarizer\\.venv\\lib\\site-packages (from pynndescent>=0.5->umap-learn) (1.5.2)\n",
      "Requirement already satisfied: threadpoolctl>=3.1.0 in c:\\d drive\\notes\\mca\\ml based text summarizer and plagiarism detection system\\text summarizer\\.venv\\lib\\site-packages (from scikit-learn>=1.6->umap-learn) (3.6.0)\n",
      "Requirement already satisfied: colorama in c:\\d drive\\notes\\mca\\ml based text summarizer and plagiarism detection system\\text summarizer\\.venv\\lib\\site-packages (from tqdm->umap-learn) (0.4.6)\n"
     ]
    },
    {
     "name": "stderr",
     "output_type": "stream",
     "text": [
      "\n",
      "[notice] A new release of pip is available: 25.1.1 -> 25.2\n",
      "[notice] To update, run: python.exe -m pip install --upgrade pip\n"
     ]
    },
    {
     "name": "stdout",
     "output_type": "stream",
     "text": [
      "Requirement already satisfied: sentencepiece in c:\\d drive\\notes\\mca\\ml based text summarizer and plagiarism detection system\\text summarizer\\.venv\\lib\\site-packages (0.2.1)\n"
     ]
    },
    {
     "name": "stderr",
     "output_type": "stream",
     "text": [
      "\n",
      "[notice] A new release of pip is available: 25.1.1 -> 25.2\n",
      "[notice] To update, run: python.exe -m pip install --upgrade pip\n"
     ]
    },
    {
     "name": "stdout",
     "output_type": "stream",
     "text": [
      "Requirement already satisfied: urllib3 in c:\\d drive\\notes\\mca\\ml based text summarizer and plagiarism detection system\\text summarizer\\.venv\\lib\\site-packages (2.5.0)\n"
     ]
    },
    {
     "name": "stderr",
     "output_type": "stream",
     "text": [
      "\n",
      "[notice] A new release of pip is available: 25.1.1 -> 25.2\n",
      "[notice] To update, run: python.exe -m pip install --upgrade pip\n"
     ]
    },
    {
     "name": "stdout",
     "output_type": "stream",
     "text": [
      "Requirement already satisfied: py7zr in c:\\d drive\\notes\\mca\\ml based text summarizer and plagiarism detection system\\text summarizer\\.venv\\lib\\site-packages (1.0.0)\n",
      "Requirement already satisfied: texttable in c:\\d drive\\notes\\mca\\ml based text summarizer and plagiarism detection system\\text summarizer\\.venv\\lib\\site-packages (from py7zr) (1.7.0)\n",
      "Requirement already satisfied: pycryptodomex>=3.20.0 in c:\\d drive\\notes\\mca\\ml based text summarizer and plagiarism detection system\\text summarizer\\.venv\\lib\\site-packages (from py7zr) (3.23.0)\n",
      "Requirement already satisfied: brotli>=1.1.0 in c:\\d drive\\notes\\mca\\ml based text summarizer and plagiarism detection system\\text summarizer\\.venv\\lib\\site-packages (from py7zr) (1.1.0)\n",
      "Requirement already satisfied: psutil in c:\\d drive\\notes\\mca\\ml based text summarizer and plagiarism detection system\\text summarizer\\.venv\\lib\\site-packages (from py7zr) (7.0.0)\n",
      "Requirement already satisfied: pyzstd>=0.16.1 in c:\\d drive\\notes\\mca\\ml based text summarizer and plagiarism detection system\\text summarizer\\.venv\\lib\\site-packages (from py7zr) (0.17.0)\n",
      "Requirement already satisfied: pyppmd<1.3.0,>=1.1.0 in c:\\d drive\\notes\\mca\\ml based text summarizer and plagiarism detection system\\text summarizer\\.venv\\lib\\site-packages (from py7zr) (1.2.0)\n",
      "Requirement already satisfied: pybcj<1.1.0,>=1.0.0 in c:\\d drive\\notes\\mca\\ml based text summarizer and plagiarism detection system\\text summarizer\\.venv\\lib\\site-packages (from py7zr) (1.0.6)\n",
      "Requirement already satisfied: multivolumefile>=0.2.3 in c:\\d drive\\notes\\mca\\ml based text summarizer and plagiarism detection system\\text summarizer\\.venv\\lib\\site-packages (from py7zr) (0.2.3)\n",
      "Requirement already satisfied: inflate64<1.1.0,>=1.0.0 in c:\\d drive\\notes\\mca\\ml based text summarizer and plagiarism detection system\\text summarizer\\.venv\\lib\\site-packages (from py7zr) (1.0.3)\n",
      "Requirement already satisfied: typing-extensions>=4.13.2 in c:\\d drive\\notes\\mca\\ml based text summarizer and plagiarism detection system\\text summarizer\\.venv\\lib\\site-packages (from pyzstd>=0.16.1->py7zr) (4.15.0)\n"
     ]
    },
    {
     "name": "stderr",
     "output_type": "stream",
     "text": [
      "\n",
      "[notice] A new release of pip is available: 25.1.1 -> 25.2\n",
      "[notice] To update, run: python.exe -m pip install --upgrade pip\n"
     ]
    }
   ],
   "execution_count": 13
  },
  {
   "metadata": {},
   "cell_type": "markdown",
   "source": "Importing dataset",
   "id": "eecdfc885ec3c643"
  },
  {
   "metadata": {
    "ExecuteTime": {
     "end_time": "2025-09-15T15:14:54.668555Z",
     "start_time": "2025-09-15T15:14:45.135955Z"
    }
   },
   "cell_type": "code",
   "source": [
    "from datasets import load_dataset\n",
    "\n",
    "dataset = load_dataset(\"cnn_dailymail\", \"3.0.0\")"
   ],
   "id": "cbdadbe471188b2c",
   "outputs": [],
   "execution_count": 14
  },
  {
   "metadata": {
    "ExecuteTime": {
     "end_time": "2025-09-15T15:14:54.685265Z",
     "start_time": "2025-09-15T15:14:54.679293Z"
    }
   },
   "cell_type": "code",
   "source": "dataset",
   "id": "11a5a7bd34bbe1db",
   "outputs": [
    {
     "data": {
      "text/plain": [
       "DatasetDict({\n",
       "    train: Dataset({\n",
       "        features: ['article', 'highlights', 'id'],\n",
       "        num_rows: 287113\n",
       "    })\n",
       "    validation: Dataset({\n",
       "        features: ['article', 'highlights', 'id'],\n",
       "        num_rows: 13368\n",
       "    })\n",
       "    test: Dataset({\n",
       "        features: ['article', 'highlights', 'id'],\n",
       "        num_rows: 11490\n",
       "    })\n",
       "})"
      ]
     },
     "execution_count": 15,
     "metadata": {},
     "output_type": "execute_result"
    }
   ],
   "execution_count": 15
  }
 ],
 "metadata": {
  "kernelspec": {
   "display_name": "Python 3",
   "language": "python",
   "name": "python3"
  },
  "language_info": {
   "codemirror_mode": {
    "name": "ipython",
    "version": 2
   },
   "file_extension": ".py",
   "mimetype": "text/x-python",
   "name": "python",
   "nbconvert_exporter": "python",
   "pygments_lexer": "ipython2",
   "version": "2.7.6"
  }
 },
 "nbformat": 4,
 "nbformat_minor": 5
}
